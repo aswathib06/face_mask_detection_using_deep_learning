{
  "nbformat": 4,
  "nbformat_minor": 0,
  "metadata": {
    "colab": {
      "provenance": []
    },
    "kernelspec": {
      "name": "python3",
      "display_name": "Python 3"
    },
    "language_info": {
      "name": "python"
    }
  },
  "cells": [
    {
      "cell_type": "code",
      "source": [
        "import os\n",
        "import numpy as np\n",
        "import matplotlib.pyplot as plt\n",
        "from tensorflow.keras.preprocessing.image import ImageDataGenerator\n",
        "from tensorflow.keras.applications import MobileNetV2\n",
        "from tensorflow.keras.models import Model\n",
        "from tensorflow.keras.layers import AveragePooling2D, Dropout, Flatten, Dense, Input\n",
        "from tensorflow.keras.optimizers import Adam\n",
        "from tensorflow.keras.preprocessing.image import img_to_array, load_img\n",
        "from sklearn.model_selection import train_test_split\n",
        "from sklearn.preprocessing import LabelBinarizer\n",
        "from sklearn.metrics import classification_report\n",
        "import cv2"
      ],
      "metadata": {
        "id": "sNV4YjRipqcC"
      },
      "execution_count": 4,
      "outputs": []
    },
    {
      "cell_type": "code",
      "source": [
        "import zipfile"
      ],
      "metadata": {
        "id": "TVavuFX4rbJ6"
      },
      "execution_count": 11,
      "outputs": []
    },
    {
      "cell_type": "code",
      "source": [
        "# Set dataset path\n",
        "dataset_path_zip = \"/content/archive.zip\"\n",
        "\n",
        "dataset_path = \"/content/dataset\"  # Choose a directory to extract to\n",
        "\n",
        "# Extract the zip file\n",
        "with zipfile.ZipFile(dataset_path_zip, 'r') as zip_ref:\n",
        "    zip_ref.extractall(dataset_path)\n",
        "\n",
        "# Initialize variables\n",
        "data = []\n",
        "labels = []"
      ],
      "metadata": {
        "id": "1lrEWDPZprNP"
      },
      "execution_count": 12,
      "outputs": []
    },
    {
      "cell_type": "code",
      "source": [
        "for category in [\"with_mask\", \"without_mask\"]:\n",
        "    folder = os.path.join(dataset_path, category)\n",
        "    for img_name in os.listdir(folder):\n",
        "        img_path = os.path.join(folder, img_name)\n",
        "        image = load_img(img_path, target_size=(224, 224))\n",
        "        image = img_to_array(image)\n",
        "        image = image / 255.0  # Normalize\n",
        "        data.append(image)\n",
        "        labels.append(category)"
      ],
      "metadata": {
        "colab": {
          "base_uri": "https://localhost:8080/"
        },
        "id": "5_w_1PdXqK_4",
        "outputId": "bb3644f9-2c9f-4a04-965a-d139ebacd805"
      },
      "execution_count": 13,
      "outputs": [
        {
          "output_type": "stream",
          "name": "stderr",
          "text": [
            "/usr/local/lib/python3.11/dist-packages/PIL/Image.py:1043: UserWarning: Palette images with Transparency expressed in bytes should be converted to RGBA images\n",
            "  warnings.warn(\n"
          ]
        }
      ]
    },
    {
      "cell_type": "code",
      "source": [
        "data = np.array(data, dtype=\"float32\")\n",
        "labels = np.array(labels)"
      ],
      "metadata": {
        "id": "f9HhJzThrvgr"
      },
      "execution_count": 14,
      "outputs": []
    },
    {
      "cell_type": "code",
      "source": [
        "\n",
        "print(f\"Data shape: {data.shape}\")\n",
        "print(f\"Labels shape: {labels.shape}\")"
      ],
      "metadata": {
        "colab": {
          "base_uri": "https://localhost:8080/"
        },
        "id": "U8wm1Rf5sHXr",
        "outputId": "031d43b6-cdd7-4e9c-9465-1f697f476b38"
      },
      "execution_count": 15,
      "outputs": [
        {
          "output_type": "stream",
          "name": "stdout",
          "text": [
            "Data shape: (3833, 224, 224, 3)\n",
            "Labels shape: (3833,)\n"
          ]
        }
      ]
    },
    {
      "cell_type": "code",
      "source": [
        "lb = LabelBinarizer()\n",
        "labels = lb.fit_transform(labels)\n",
        "labels = np.array(labels)"
      ],
      "metadata": {
        "id": "QptfZKeRsYo8"
      },
      "execution_count": 16,
      "outputs": []
    },
    {
      "cell_type": "code",
      "source": [
        "(trainX, testX, trainY, testY) = train_test_split(data, labels,\n",
        "                                                  test_size=0.20, stratify=labels, random_state=42)"
      ],
      "metadata": {
        "id": "2ZVtjkquschY"
      },
      "execution_count": 17,
      "outputs": []
    },
    {
      "cell_type": "code",
      "source": [
        "aug = ImageDataGenerator(rotation_range=20,\n",
        "                         zoom_range=0.15,\n",
        "                         width_shift_range=0.2,\n",
        "                         height_shift_range=0.2,\n",
        "                         shear_range=0.15,\n",
        "                         horizontal_flip=True,\n",
        "                         fill_mode=\"nearest\")"
      ],
      "metadata": {
        "id": "HY1nnLPGsnrl"
      },
      "execution_count": 18,
      "outputs": []
    },
    {
      "cell_type": "code",
      "source": [
        "# Load MobileNetV2\n",
        "baseModel = MobileNetV2(weights=\"imagenet\", include_top=False,\n",
        "                        input_tensor=Input(shape=(224, 224, 3)))\n"
      ],
      "metadata": {
        "colab": {
          "base_uri": "https://localhost:8080/"
        },
        "id": "8Jjf5YJFsu_5",
        "outputId": "3eb61861-f243-40a5-d760-0fadd022457d"
      },
      "execution_count": 19,
      "outputs": [
        {
          "output_type": "stream",
          "name": "stderr",
          "text": [
            "<ipython-input-19-cce13deb5fae>:2: UserWarning: `input_shape` is undefined or non-square, or `rows` is not in [96, 128, 160, 192, 224]. Weights for input shape (224, 224) will be loaded as the default.\n",
            "  baseModel = MobileNetV2(weights=\"imagenet\", include_top=False,\n"
          ]
        },
        {
          "output_type": "stream",
          "name": "stdout",
          "text": [
            "Downloading data from https://storage.googleapis.com/tensorflow/keras-applications/mobilenet_v2/mobilenet_v2_weights_tf_dim_ordering_tf_kernels_1.0_224_no_top.h5\n",
            "\u001b[1m9406464/9406464\u001b[0m \u001b[32m━━━━━━━━━━━━━━━━━━━━\u001b[0m\u001b[37m\u001b[0m \u001b[1m1s\u001b[0m 0us/step\n"
          ]
        }
      ]
    },
    {
      "cell_type": "code",
      "source": [
        "\n",
        "# Freeze base model layers\n",
        "baseModel.trainable = False"
      ],
      "metadata": {
        "id": "OYZJou4ysyYN"
      },
      "execution_count": 20,
      "outputs": []
    },
    {
      "cell_type": "code",
      "source": [
        "# Add custom head\n",
        "headModel = baseModel.output\n",
        "headModel = AveragePooling2D(pool_size=(7, 7))(headModel)\n",
        "headModel = Flatten(name=\"flatten\")(headModel)\n",
        "headModel = Dense(128, activation=\"relu\")(headModel)\n",
        "headModel = Dropout(0.5)(headModel)\n",
        "headModel = Dense(1, activation=\"sigmoid\")(headModel)"
      ],
      "metadata": {
        "id": "ldDtWPxbs7sL"
      },
      "execution_count": 21,
      "outputs": []
    },
    {
      "cell_type": "code",
      "source": [
        "\n",
        "# Combine base and head into final model\n",
        "model = Model(inputs=baseModel.input, outputs=headModel)\n",
        "\n",
        "# Compile the model\n",
        "INIT_LR = 1e-4\n",
        "EPOCHS = 20\n",
        "BS = 32\n",
        "\n",
        "model.compile(loss=\"binary_crossentropy\", optimizer=Adam(learning_rate=INIT_LR),\n",
        "              metrics=[\"accuracy\"])\n"
      ],
      "metadata": {
        "id": "5K3UVihItB3o"
      },
      "execution_count": 22,
      "outputs": []
    },
    {
      "cell_type": "code",
      "source": [
        "H = model.fit(aug.flow(trainX, trainY, batch_size=BS),\n",
        "              steps_per_epoch=len(trainX) // BS,\n",
        "              validation_data=(testX, testY),\n",
        "              validation_steps=len(testX) // BS,\n",
        "              epochs=EPOCHS)"
      ],
      "metadata": {
        "colab": {
          "base_uri": "https://localhost:8080/"
        },
        "id": "RprqB0sZtHEM",
        "outputId": "f5093106-cd98-4767-d0d3-153902b86efc"
      },
      "execution_count": 23,
      "outputs": [
        {
          "metadata": {
            "tags": null
          },
          "name": "stderr",
          "output_type": "stream",
          "text": [
            "/usr/local/lib/python3.11/dist-packages/keras/src/trainers/data_adapters/py_dataset_adapter.py:121: UserWarning: Your `PyDataset` class should call `super().__init__(**kwargs)` in its constructor. `**kwargs` can include `workers`, `use_multiprocessing`, `max_queue_size`. Do not pass these arguments to `fit()`, as they will be ignored.\n",
            "  self._warn_if_super_not_called()\n"
          ]
        },
        {
          "metadata": {
            "tags": null
          },
          "name": "stdout",
          "output_type": "stream",
          "text": [
            "Epoch 1/20\n"
          ]
        },
        {
          "metadata": {
            "tags": null
          },
          "name": "stderr",
          "output_type": "stream",
          "text": [
            "/usr/local/lib/python3.11/dist-packages/keras/src/models/functional.py:237: UserWarning: The structure of `inputs` doesn't match the expected structure.\n",
            "Expected: ['keras_tensor']\n",
            "Received: inputs=Tensor(shape=(None, 224, 224, 3))\n",
            "  warnings.warn(msg)\n"
          ]
        },
        {
          "metadata": {
            "tags": null
          },
          "name": "stdout",
          "output_type": "stream",
          "text": [
            "\u001b[1m95/95\u001b[0m \u001b[32m━━━━━━━━━━━━━━━━━━━━\u001b[0m\u001b[37m\u001b[0m \u001b[1m128s\u001b[0m 1s/step - accuracy: 0.7330 - loss: 0.5425 - val_accuracy: 0.9726 - val_loss: 0.1425\n",
            "Epoch 2/20\n",
            "\u001b[1m 1/95\u001b[0m \u001b[37m━━━━━━━━━━━━━━━━━━━━\u001b[0m \u001b[1m1:14\u001b[0m 797ms/step - accuracy: 0.9688 - loss: 0.1148"
          ]
        },
        {
          "metadata": {
            "tags": null
          },
          "name": "stderr",
          "output_type": "stream",
          "text": [
            "/usr/local/lib/python3.11/dist-packages/keras/src/trainers/epoch_iterator.py:107: UserWarning: Your input ran out of data; interrupting training. Make sure that your dataset or generator can generate at least `steps_per_epoch * epochs` batches. You may need to use the `.repeat()` function when building your dataset.\n",
            "  self._interrupted_warning()\n"
          ]
        },
        {
          "output_type": "stream",
          "name": "stdout",
          "text": [
            "\u001b[1m95/95\u001b[0m \u001b[32m━━━━━━━━━━━━━━━━━━━━\u001b[0m\u001b[37m\u001b[0m \u001b[1m21s\u001b[0m 218ms/step - accuracy: 0.9688 - loss: 0.1148 - val_accuracy: 0.9726 - val_loss: 0.1413\n",
            "Epoch 3/20\n",
            "\u001b[1m95/95\u001b[0m \u001b[32m━━━━━━━━━━━━━━━━━━━━\u001b[0m\u001b[37m\u001b[0m \u001b[1m112s\u001b[0m 1s/step - accuracy: 0.9512 - loss: 0.1516 - val_accuracy: 0.9791 - val_loss: 0.0889\n",
            "Epoch 4/20\n",
            "\u001b[1m95/95\u001b[0m \u001b[32m━━━━━━━━━━━━━━━━━━━━\u001b[0m\u001b[37m\u001b[0m \u001b[1m42s\u001b[0m 436ms/step - accuracy: 0.9375 - loss: 0.1394 - val_accuracy: 0.9791 - val_loss: 0.0894\n",
            "Epoch 5/20\n",
            "\u001b[1m95/95\u001b[0m \u001b[32m━━━━━━━━━━━━━━━━━━━━\u001b[0m\u001b[37m\u001b[0m \u001b[1m117s\u001b[0m 1s/step - accuracy: 0.9685 - loss: 0.1033 - val_accuracy: 0.9844 - val_loss: 0.0708\n",
            "Epoch 6/20\n",
            "\u001b[1m95/95\u001b[0m \u001b[32m━━━━━━━━━━━━━━━━━━━━\u001b[0m\u001b[37m\u001b[0m \u001b[1m21s\u001b[0m 218ms/step - accuracy: 0.9062 - loss: 0.1344 - val_accuracy: 0.9844 - val_loss: 0.0702\n",
            "Epoch 7/20\n",
            "\u001b[1m95/95\u001b[0m \u001b[32m━━━━━━━━━━━━━━━━━━━━\u001b[0m\u001b[37m\u001b[0m \u001b[1m119s\u001b[0m 1s/step - accuracy: 0.9658 - loss: 0.0893 - val_accuracy: 0.9817 - val_loss: 0.0626\n",
            "Epoch 8/20\n",
            "\u001b[1m95/95\u001b[0m \u001b[32m━━━━━━━━━━━━━━━━━━━━\u001b[0m\u001b[37m\u001b[0m \u001b[1m21s\u001b[0m 218ms/step - accuracy: 0.9375 - loss: 0.1069 - val_accuracy: 0.9844 - val_loss: 0.0634\n",
            "Epoch 9/20\n",
            "\u001b[1m95/95\u001b[0m \u001b[32m━━━━━━━━━━━━━━━━━━━━\u001b[0m\u001b[37m\u001b[0m \u001b[1m117s\u001b[0m 1s/step - accuracy: 0.9684 - loss: 0.0877 - val_accuracy: 0.9817 - val_loss: 0.0555\n",
            "Epoch 10/20\n",
            "\u001b[1m95/95\u001b[0m \u001b[32m━━━━━━━━━━━━━━━━━━━━\u001b[0m\u001b[37m\u001b[0m \u001b[1m21s\u001b[0m 218ms/step - accuracy: 1.0000 - loss: 0.0294 - val_accuracy: 0.9817 - val_loss: 0.0554\n",
            "Epoch 11/20\n",
            "\u001b[1m95/95\u001b[0m \u001b[32m━━━━━━━━━━━━━━━━━━━━\u001b[0m\u001b[37m\u001b[0m \u001b[1m119s\u001b[0m 1s/step - accuracy: 0.9725 - loss: 0.0725 - val_accuracy: 0.9857 - val_loss: 0.0519\n",
            "Epoch 12/20\n",
            "\u001b[1m95/95\u001b[0m \u001b[32m━━━━━━━━━━━━━━━━━━━━\u001b[0m\u001b[37m\u001b[0m \u001b[1m21s\u001b[0m 218ms/step - accuracy: 0.9688 - loss: 0.0722 - val_accuracy: 0.9844 - val_loss: 0.0519\n",
            "Epoch 13/20\n",
            "\u001b[1m95/95\u001b[0m \u001b[32m━━━━━━━━━━━━━━━━━━━━\u001b[0m\u001b[37m\u001b[0m \u001b[1m121s\u001b[0m 1s/step - accuracy: 0.9842 - loss: 0.0531 - val_accuracy: 0.9844 - val_loss: 0.0483\n",
            "Epoch 14/20\n",
            "\u001b[1m95/95\u001b[0m \u001b[32m━━━━━━━━━━━━━━━━━━━━\u001b[0m\u001b[37m\u001b[0m \u001b[1m21s\u001b[0m 218ms/step - accuracy: 1.0000 - loss: 0.0306 - val_accuracy: 0.9844 - val_loss: 0.0482\n",
            "Epoch 15/20\n",
            "\u001b[1m95/95\u001b[0m \u001b[32m━━━━━━━━━━━━━━━━━━━━\u001b[0m\u001b[37m\u001b[0m \u001b[1m117s\u001b[0m 1s/step - accuracy: 0.9753 - loss: 0.0704 - val_accuracy: 0.9857 - val_loss: 0.0472\n",
            "Epoch 16/20\n",
            "\u001b[1m95/95\u001b[0m \u001b[32m━━━━━━━━━━━━━━━━━━━━\u001b[0m\u001b[37m\u001b[0m \u001b[1m21s\u001b[0m 218ms/step - accuracy: 0.9375 - loss: 0.1362 - val_accuracy: 0.9857 - val_loss: 0.0472\n",
            "Epoch 17/20\n",
            "\u001b[1m95/95\u001b[0m \u001b[32m━━━━━━━━━━━━━━━━━━━━\u001b[0m\u001b[37m\u001b[0m \u001b[1m124s\u001b[0m 1s/step - accuracy: 0.9807 - loss: 0.0560 - val_accuracy: 0.9857 - val_loss: 0.0430\n",
            "Epoch 18/20\n",
            "\u001b[1m95/95\u001b[0m \u001b[32m━━━━━━━━━━━━━━━━━━━━\u001b[0m\u001b[37m\u001b[0m \u001b[1m21s\u001b[0m 218ms/step - accuracy: 1.0000 - loss: 0.0197 - val_accuracy: 0.9857 - val_loss: 0.0431\n",
            "Epoch 19/20\n",
            "\u001b[1m95/95\u001b[0m \u001b[32m━━━━━━━━━━━━━━━━━━━━\u001b[0m\u001b[37m\u001b[0m \u001b[1m120s\u001b[0m 1s/step - accuracy: 0.9805 - loss: 0.0575 - val_accuracy: 0.9857 - val_loss: 0.0420\n",
            "Epoch 20/20\n",
            "\u001b[1m95/95\u001b[0m \u001b[32m━━━━━━━━━━━━━━━━━━━━\u001b[0m\u001b[37m\u001b[0m \u001b[1m20s\u001b[0m 209ms/step - accuracy: 1.0000 - loss: 0.0282 - val_accuracy: 0.9870 - val_loss: 0.0419\n"
          ]
        }
      ]
    },
    {
      "cell_type": "code",
      "source": [
        "# Evaluate the model\n",
        "predIdxs = model.predict(testX, batch_size=BS)\n",
        "predIdxs = (predIdxs > 0.5).astype(\"int32\")\n",
        "\n",
        "print(classification_report(testY, predIdxs, target_names=lb.classes_))\n"
      ],
      "metadata": {
        "colab": {
          "base_uri": "https://localhost:8080/"
        },
        "id": "rd50ounH0WLK",
        "outputId": "de9c4426-0abe-4537-e5ac-f99a6d726fce"
      },
      "execution_count": 25,
      "outputs": [
        {
          "output_type": "stream",
          "name": "stderr",
          "text": [
            "/usr/local/lib/python3.11/dist-packages/keras/src/models/functional.py:237: UserWarning: The structure of `inputs` doesn't match the expected structure.\n",
            "Expected: ['keras_tensor']\n",
            "Received: inputs=Tensor(shape=(32, 224, 224, 3))\n",
            "  warnings.warn(msg)\n"
          ]
        },
        {
          "output_type": "stream",
          "name": "stdout",
          "text": [
            "\u001b[1m24/24\u001b[0m \u001b[32m━━━━━━━━━━━━━━━━━━━━\u001b[0m\u001b[37m\u001b[0m \u001b[1m21s\u001b[0m 840ms/step\n",
            "              precision    recall  f1-score   support\n",
            "\n",
            "   with_mask       0.99      0.99      0.99       383\n",
            "without_mask       0.99      0.99      0.99       384\n",
            "\n",
            "    accuracy                           0.99       767\n",
            "   macro avg       0.99      0.99      0.99       767\n",
            "weighted avg       0.99      0.99      0.99       767\n",
            "\n"
          ]
        }
      ]
    },
    {
      "cell_type": "code",
      "source": [
        "# Save the model\n",
        "model.save(\"face_mask_detector_model.h5\")\n"
      ],
      "metadata": {
        "colab": {
          "base_uri": "https://localhost:8080/"
        },
        "id": "gi5Lf-_B1YJs",
        "outputId": "b07c13c4-77c6-49ba-c5f0-6f1967fd599c"
      },
      "execution_count": 26,
      "outputs": [
        {
          "output_type": "stream",
          "name": "stderr",
          "text": [
            "WARNING:absl:You are saving your model as an HDF5 file via `model.save()` or `keras.saving.save_model(model)`. This file format is considered legacy. We recommend using instead the native Keras format, e.g. `model.save('my_model.keras')` or `keras.saving.save_model(model, 'my_model.keras')`. \n"
          ]
        }
      ]
    },
    {
      "cell_type": "code",
      "source": [
        "# Plot training results\n",
        "plt.figure(figsize=(12, 4))\n",
        "plt.subplot(1, 2, 1)\n",
        "plt.plot(H.history[\"loss\"], label=\"Train Loss\")\n",
        "plt.plot(H.history[\"val_loss\"], label=\"Val Loss\")\n",
        "plt.legend()\n",
        "plt.title(\"Loss\")\n",
        "\n",
        "plt.subplot(1, 2, 2)\n",
        "plt.plot(H.history[\"accuracy\"], label=\"Train Acc\")\n",
        "plt.plot(H.history[\"val_accuracy\"], label=\"Val Acc\")\n",
        "plt.legend()\n",
        "plt.title(\"Accuracy\")\n",
        "plt.show()"
      ],
      "metadata": {
        "colab": {
          "base_uri": "https://localhost:8080/",
          "height": 411
        },
        "id": "UW5ZADgY1eVp",
        "outputId": "0bfcb9c5-e178-4e07-c53e-e9e65574e5e3"
      },
      "execution_count": 27,
      "outputs": [
        {
          "output_type": "display_data",
          "data": {
            "text/plain": [
              "<Figure size 1200x400 with 2 Axes>"
            ],
            "image/png": "[encoded data removed]"
          },
          "metadata": {}
        }
      ]
    }
  ]
}